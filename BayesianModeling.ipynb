{
 "cells": [
  {
   "cell_type": "code",
   "execution_count": null,
   "metadata": {
    "collapsed": true
   },
   "outputs": [],
   "source": [
    "import pandas as pd\n"
   ]
  },
  {
   "cell_type": "markdown",
   "metadata": {},
   "source": [
    "The following function implements the Bayesian updating scheme and, depending on the \"measure\" argument, computes either trial-by-trial Bayesian Semantic Surprise (as a Kullback-Leibler divergence) or prediction error for one participant's stimulus sequence."
   ]
  },
  {
   "cell_type": "code",
   "execution_count": null,
   "metadata": {
    "collapsed": true
   },
   "outputs": [],
   "source": [
    "def BayesianUpdating(subj, measure, tau):\n",
    "    if subj < 10:\n",
    "        substr = '0' + str(subj)\n",
    "    else:\n",
    "        substr = str(subj)\n",
    "    alpha = 0\n",
    "    beta = 0\n",
    "    seq = pd.read('SemSur_' + substr + '_resp.txt')"
   ]
  }
 ],
 "metadata": {
  "kernelspec": {
   "display_name": "Python 3",
   "language": "python",
   "name": "python3"
  },
  "language_info": {
   "codemirror_mode": {
    "name": "ipython",
    "version": 3
   },
   "file_extension": ".py",
   "mimetype": "text/x-python",
   "name": "python",
   "nbconvert_exporter": "python",
   "pygments_lexer": "ipython3",
   "version": "3.6.8"
  }
 },
 "nbformat": 4,
 "nbformat_minor": 2
}
